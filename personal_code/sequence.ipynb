{
 "cells": [
  {
   "cell_type": "markdown",
   "metadata": {},
   "source": [
    "x in s\t\t\tTrue if an item of s is equal to x, else False\n",
    "x not in s\t\tFalse if an item of s is equal to x, else True\n",
    "s + t\t\t\tthe concatenation of s and t\n",
    "s * n or n * s\tequivalent to adding s to itself n times\n",
    "s[i]\t\t\tith item of s, origin 0\n",
    "s[i:j]\t\t\tslice of s from i to j\n",
    "s[i:j:k]\t\tslice of s from i to j with step k\n",
    "len(s)\t\t\tlength of s\n",
    "min(s)\t\t\tsmallest item of s\n",
    "max(s)\t\t\tlargest item of s\n",
    "s.index(x[, i[, j]])\tindex of the first occurrence of x in s (at or after index i and before index j)\n",
    "s.count(x)\t\ttotal number of occurrences of x in s\n",
    "\t"
   ]
  },
  {
   "cell_type": "code",
   "execution_count": 19,
   "metadata": {},
   "outputs": [
    {
     "name": "stdout",
     "output_type": "stream",
     "text": [
      "True\n",
      "False\n",
      "[1, 2, 3, 4, 5, 6, 7]\n",
      "[1, 2, 3, 1, 2, 3, 1, 2, 3]\n",
      "3\n",
      "[5, 6]\n",
      "[2, 4, 6]\n",
      "11\n",
      "9\n",
      "1\n",
      "4\n"
     ]
    }
   ],
   "source": [
    "s = [1,2,3]\n",
    "t = [4,5,6,7]\n",
    "u = [0,1,2,3,4,5,6,7,8,9,10]\n",
    "v = [10,23,21, 12, 9]\n",
    "w = [1,1,2,2,2,2,3,4,5,6,7,8,8,8,8,9]\n",
    "print(2 in s) \t#true\n",
    "print(9 in s) \t#false\n",
    "print(s + t) \t#[1,2,3,4,5,6,7]\n",
    "print(s * 3) \t#[1,2,3,1,2,3,1,2,3]\n",
    "print(s[2]) \t#3\n",
    "print(t[1:3]) \t#[5,6] Starting from the left index and ending before right inde\n",
    "print(u[2:8:2]) #[2,4,6] Starting from first to second, with the step as defined in the third\n",
    "print(len(u)) # 11 Length of the array\n",
    "print(min(v)) # 9 \n",
    "print(v.index(23)) # 1 Find index of the given element inside the sequence\n",
    "print(w.count(2)) # 4 Number of elements in the sequence\n"
   ]
  },
  {
   "cell_type": "code",
   "execution_count": null,
   "metadata": {},
   "outputs": [],
   "source": []
  }
 ],
 "metadata": {
  "kernelspec": {
   "display_name": "Python 3",
   "language": "python",
   "name": "python3"
  },
  "language_info": {
   "codemirror_mode": {
    "name": "ipython",
    "version": 3
   },
   "file_extension": ".py",
   "mimetype": "text/x-python",
   "name": "python",
   "nbconvert_exporter": "python",
   "pygments_lexer": "ipython3",
   "version": "3.11.4"
  },
  "orig_nbformat": 4
 },
 "nbformat": 4,
 "nbformat_minor": 2
}
