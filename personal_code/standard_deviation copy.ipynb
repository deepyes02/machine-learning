{
 "cells": [
  {
   "cell_type": "code",
   "execution_count": 17,
   "metadata": {},
   "outputs": [
    {
     "name": "stdout",
     "output_type": "stream",
     "text": [
      "14 22\n"
     ]
    }
   ],
   "source": [
    "# import math\n",
    "# import os\n",
    "# import random\n",
    "# import re\n",
    "# import sys\n",
    "\n",
    "def miniMaxSum(arr):\n",
    "\tsorted = arr.sort()\n",
    "\tprint (sum(arr[:-1]), sum(arr[1:]))\n",
    "\n",
    "if __name__ == '__main__':\n",
    "    arr = list([10,5,2,3,4])\n",
    "    miniMaxSum(arr)"
   ]
  },
  {
   "cell_type": "markdown",
   "metadata": {},
   "source": [
    "FIBONACCHI"
   ]
  },
  {
   "cell_type": "code",
   "execution_count": 47,
   "metadata": {},
   "outputs": [
    {
     "name": "stdout",
     "output_type": "stream",
     "text": [
      "0, 1, 1, 2, 3, 5, 8, 13, 21, 34, 55, 89, 144, "
     ]
    }
   ],
   "source": [
    "def fibonacchi():\n",
    "\ta,b = 0, 1\n",
    "\twhile a < 200:\n",
    "\t\tprint (a, end=', ')\n",
    "\t\ta , b = b, a+b\n",
    "fibonacchi()"
   ]
  }
 ],
 "metadata": {
  "kernelspec": {
   "display_name": "Python 3",
   "language": "python",
   "name": "python3"
  },
  "language_info": {
   "codemirror_mode": {
    "name": "ipython",
    "version": 3
   },
   "file_extension": ".py",
   "mimetype": "text/x-python",
   "name": "python",
   "nbconvert_exporter": "python",
   "pygments_lexer": "ipython3",
   "version": "3.11.4"
  },
  "orig_nbformat": 4
 },
 "nbformat": 4,
 "nbformat_minor": 2
}
